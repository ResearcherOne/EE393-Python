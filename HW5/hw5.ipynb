{
 "cells": [
  {
   "cell_type": "markdown",
   "metadata": {},
   "source": [
    "# Homework 5 \n",
    "## Umut Çakan S006742 Computer Science"
   ]
  },
  {
   "cell_type": "markdown",
   "metadata": {},
   "source": [
    "### Import necessary libraries."
   ]
  },
  {
   "cell_type": "code",
   "execution_count": 271,
   "metadata": {},
   "outputs": [],
   "source": [
    "import numpy as np\n",
    "import scipy.integrate\n",
    "import matplotlib.pyplot as plt"
   ]
  },
  {
   "cell_type": "markdown",
   "metadata": {},
   "source": [
    "### Midpoint and quad integrate methods."
   ]
  },
  {
   "cell_type": "code",
   "execution_count": 272,
   "metadata": {},
   "outputs": [],
   "source": [
    "def midpoint(f, a, b, n):\n",
    "    ## Calculate midpoint\n",
    "    h = (b - a) / (float(n))\n",
    "    I = np.arange(1,n+1)\n",
    "    out = (h * f(a - (0.5 * h) + (I * h))).sum()\n",
    "    return out\n",
    "\n",
    "def integrate_f(f, a ,b):\n",
    "    return scipy.integrate.quad(f, a, b)"
   ]
  },
  {
   "cell_type": "markdown",
   "metadata": {},
   "source": [
    "### Print actual values of the integrals."
   ]
  },
  {
   "cell_type": "code",
   "execution_count": 273,
   "metadata": {},
   "outputs": [
    {
     "name": "stdout",
     "output_type": "stream",
     "text": [
      "Actual value of: F(Exp) between 0 and log3:  2\n",
      "Actual value of: F(Cos) between 0 and pi:  0\n",
      "Actual value of: F(Sin) between 0 and pi:  2\n",
      "Actual value of: F(Sin) between 0 and pi / 2:  1\n"
     ]
    }
   ],
   "source": [
    "print(\"Actual value of: F(Exp) between 0 and log3: \", 2)\n",
    "print(\"Actual value of: F(Cos) between 0 and pi: \", 0)\n",
    "print(\"Actual value of: F(Sin) between 0 and pi: \", 2)\n",
    "print(\"Actual value of: F(Sin) between 0 and pi / 2: \", 1)"
   ]
  },
  {
   "cell_type": "markdown",
   "metadata": {},
   "source": [
    "### Print quad integrate method of integrals."
   ]
  },
  {
   "cell_type": "code",
   "execution_count": 274,
   "metadata": {},
   "outputs": [
    {
     "name": "stdout",
     "output_type": "stream",
     "text": [
      "Using quad integrate: F(Exp) between 0 and log3: 2.0\n",
      "Using quad integrate: F(Cos) between 0 and pi: 3.6775933888827275e-17\n",
      "Using quad integrate: F(Sin) between 0 and pi: 2.0\n",
      "Using quad integrate: F(Sin) between 0 and pi / 2: 0.9999999999999999\n"
     ]
    }
   ],
   "source": [
    "print(\"Using quad integrate: F(Exp) between 0 and log3:\", integrate_f(np.exp, 0, np.log(3))[0])\n",
    "print(\"Using quad integrate: F(Cos) between 0 and pi:\", integrate_f(np.cos, 0, np.pi)[0])\n",
    "print(\"Using quad integrate: F(Sin) between 0 and pi:\", integrate_f(np.sin, 0, np.pi)[0])\n",
    "print(\"Using quad integrate: F(Sin) between 0 and pi / 2:\", integrate_f(np.sin, 0, np.pi / 2)[0])"
   ]
  },
  {
   "cell_type": "markdown",
   "metadata": {},
   "source": [
    "### Print midpoint method of integrals."
   ]
  },
  {
   "cell_type": "code",
   "execution_count": 275,
   "metadata": {},
   "outputs": [
    {
     "name": "stdout",
     "output_type": "stream",
     "text": [
      "Using midpoint: F(Exp) between 0 and log3:  1.9999899421274\n",
      "Using midpoint: F(Cos) between 0 and pi:  -2.983724378680108e-16\n",
      "Using midpoint: F(Sin) between 0 and pi:  2.000082249070986\n",
      "Using midpoint: F(Sin) between 0 and pi / 2:  1.0000102809119054\n"
     ]
    }
   ],
   "source": [
    "print(\"Using midpoint: F(Exp) between 0 and log3: \", midpoint(np.exp, 0, np.log(3), 100))\n",
    "print(\"Using midpoint: F(Cos) between 0 and pi: \", midpoint(np.cos, 0, np.pi, 100))\n",
    "print(\"Using midpoint: F(Sin) between 0 and pi: \", midpoint(np.sin, 0, np.pi, 100))\n",
    "print(\"Using midpoint: F(Sin) between 0 and pi / 2: \", midpoint(np.sin, 0, np.pi / 2, 100))"
   ]
  },
  {
   "cell_type": "markdown",
   "metadata": {},
   "source": [
    "### Print difference between original value and midpoint method."
   ]
  },
  {
   "cell_type": "code",
   "execution_count": 276,
   "metadata": {},
   "outputs": [
    {
     "name": "stdout",
     "output_type": "stream",
     "text": [
      "Error for F(Exp) 0 and log3: between original value and midpoint:  1.0057872599888995e-05\n",
      "Error for F(Cos) 0 and pi: between original value and midpoint:  2.983724378680108e-16\n",
      "Error for F(Sin) 0 and pi: between original value and midpoint:  -8.224907098597356e-05\n",
      "Error for F(Sin) 0 and pi / 2: between original value and midpoint:  -1.0280911905358181e-05\n"
     ]
    }
   ],
   "source": [
    "print(\"Error for F(Exp) 0 and log3: between original value and midpoint: \", 2 - midpoint(np.exp, 0, np.log(3), 100))\n",
    "print(\"Error for F(Cos) 0 and pi: between original value and midpoint: \", 0 - midpoint(np.cos, 0, np.pi, 100))\n",
    "print(\"Error for F(Sin) 0 and pi: between original value and midpoint: \", 2 - midpoint(np.sin, 0, np.pi, 100))\n",
    "print(\"Error for F(Sin) 0 and pi / 2: between original value and midpoint: \", 1 - midpoint(np.sin, 0, np.pi / 2, 100))"
   ]
  },
  {
   "cell_type": "markdown",
   "metadata": {},
   "source": [
    "### Print difference between original value and quad integrate method."
   ]
  },
  {
   "cell_type": "code",
   "execution_count": 277,
   "metadata": {},
   "outputs": [
    {
     "name": "stdout",
     "output_type": "stream",
     "text": [
      "Error for F(Exp) 0 and log3: between original value and quad integrate:  0.0\n",
      "Error for F(Cos) 0 and pi: between original value and quad integrate:  -3.6775933888827275e-17\n",
      "Error for F(Sin) 0 and pi: between original value and quad integrate:  0.0\n",
      "Error for F(Sin) 0 and pi / 2: between original value and quad integrate:  1.1102230246251565e-16\n"
     ]
    }
   ],
   "source": [
    "print(\"Error for F(Exp) 0 and log3: between original value and quad integrate: \", 2 - integrate_f(np.exp, 0, np.log(3))[0])\n",
    "print(\"Error for F(Cos) 0 and pi: between original value and quad integrate: \", 0 - integrate_f(np.cos, 0, np.pi)[0])\n",
    "print(\"Error for F(Sin) 0 and pi: between original value and quad integrate: \", 2 - integrate_f(np.sin, 0, np.pi)[0])\n",
    "print(\"Error for F(Sin) 0 and pi / 2: between original value and quad integrate: \", 1 - integrate_f(np.sin, 0, np.pi / 2)[0])"
   ]
  },
  {
   "cell_type": "markdown",
   "metadata": {},
   "source": [
    "### Plot functions."
   ]
  },
  {
   "cell_type": "code",
   "execution_count": 278,
   "metadata": {},
   "outputs": [
    {
     "data": {
      "image/png": "[encoded data removed]",
      "text/plain": [
       "<Figure size 432x288 with 4 Axes>"
      ]
     },
     "metadata": {},
     "output_type": "display_data"
    }
   ],
   "source": [
    "plt.figure(1)\n",
    "\n",
    "t1 = np.arange(0.0, np.log(3), 0.1)\n",
    "t2 = np.arange(0.0, np.pi, 0.1)\n",
    "t3 = np.arange(0.0, np.pi, 0.1)\n",
    "t4 = np.arange(0.0, np.pi / 2, 0.1)\n",
    "\n",
    "## F(Exp) between 0 and log3\n",
    "plt.subplot(411)\n",
    "plt.plot(t1, np.exp(t1))\n",
    "\n",
    "## F(Cos) between 0 and pi\n",
    "plt.subplot(412)\n",
    "plt.plot(t2, np.cos(t2))\n",
    "\n",
    "## F(Sin) between 0 and pi\n",
    "plt.subplot(413)\n",
    "plt.plot(t3, np.sin(t3))\n",
    "\n",
    "## F(Sin) between 0 and pi / 2\n",
    "plt.subplot(414)\n",
    "plt.plot(t4, np.sin(t4))\n",
    "\n",
    "plt.subplots_adjust(hspace = 0.5)\n",
    "\n",
    "plt.show()"
   ]
  }
 ],
 "metadata": {
  "kernelspec": {
   "display_name": "Python 3",
   "language": "python",
   "name": "python3"
  },
  "language_info": {
   "codemirror_mode": {
    "name": "ipython",
    "version": 3
   },
   "file_extension": ".py",
   "mimetype": "text/x-python",
   "name": "python",
   "nbconvert_exporter": "python",
   "pygments_lexer": "ipython3",
   "version": "3.6.5"
  }
 },
 "nbformat": 4,
 "nbformat_minor": 2
}
