{
 "cells": [
  {
   "cell_type": "markdown",
   "metadata": {},
   "source": [
    "# Umut Çakan S006742 Computer Science"
   ]
  },
  {
   "cell_type": "code",
   "execution_count": 100,
   "metadata": {},
   "outputs": [],
   "source": [
    "import numpy as np\n",
    "import matplotlib.pyplot as plt"
   ]
  },
  {
   "cell_type": "code",
   "execution_count": 101,
   "metadata": {},
   "outputs": [
    {
     "name": "stdout",
     "output_type": "stream",
     "text": [
      "Exp between 0 and log3:  1.9672121194823233\n",
      "Cos between 0 and pi:  0.03141205083100482\n",
      "Sin between 0 and pi:  1.9995887891442419\n",
      "Sin between 0 and pi / 2:  0.984302802114539\n"
     ]
    }
   ],
   "source": [
    "def midpoint(f, a, b, n):\n",
    "    ## Calculate midpoint\n",
    "    h = (b - a) / (float(n))\n",
    "    I = np.arange(0, n-1)\n",
    "    out = (h * f(a + (0.5 * h) + (I * h))).sum()\n",
    "    return out\n",
    "\n",
    "print(\"Exp between 0 and log3: \", midpoint(np.exp, 0, np.log(3), 100))\n",
    "print(\"Cos between 0 and pi: \", midpoint(np.cos, 0, np.pi, 100))\n",
    "print(\"Sin between 0 and pi: \", midpoint(np.sin, 0, np.pi, 100))\n",
    "print(\"Sin between 0 and pi / 2: \", midpoint(np.sin, 0, np.pi / 2, 100))"
   ]
  }
 ],
 "metadata": {
  "kernelspec": {
   "display_name": "Python 3",
   "language": "python",
   "name": "python3"
  },
  "language_info": {
   "codemirror_mode": {
    "name": "ipython",
    "version": 3
   },
   "file_extension": ".py",
   "mimetype": "text/x-python",
   "name": "python",
   "nbconvert_exporter": "python",
   "pygments_lexer": "ipython3",
   "version": "3.6.5"
  }
 },
 "nbformat": 4,
 "nbformat_minor": 2
}
