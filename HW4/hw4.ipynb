{
 "cells": [
  {
   "cell_type": "markdown",
   "metadata": {},
   "source": [
    "EE393 Homework 4\n",
    "================\n",
    "\n",
    "## Umut Çakan S006742 Computer Science\n",
    "\n",
    "#### This homework takes coefficients of the equation: y=ax^3 + bx^2 + cx + d\n",
    "#### Outputs graphs of the y and y prime.<br /><br /><br /><br />\n",
    "\n",
    "##### Import necessary libraries."
   ]
  },
  {
   "cell_type": "code",
   "execution_count": 22,
   "metadata": {},
   "outputs": [],
   "source": [
    "import matplotlib.pyplot as plt\n",
    "import numpy as np"
   ]
  },
  {
   "cell_type": "markdown",
   "metadata": {},
   "source": [
    "##### Define input coefficients array, it will contain as floats."
   ]
  },
  {
   "cell_type": "code",
   "execution_count": 23,
   "metadata": {},
   "outputs": [],
   "source": [
    "float_coefficients = []"
   ]
  },
  {
   "cell_type": "markdown",
   "metadata": {},
   "source": [
    "##### Define constants, x and y min and max values."
   ]
  },
  {
   "cell_type": "code",
   "execution_count": 24,
   "metadata": {},
   "outputs": [],
   "source": [
    "X_INTERVAL = np.arange(-1, 1.1, 0.01)\n",
    "Y_MIN = 0\n",
    "Y_MAX = 5"
   ]
  },
  {
   "cell_type": "markdown",
   "metadata": {},
   "source": [
    "##### Take input from the user and check if they are all float or not."
   ]
  },
  {
   "cell_type": "code",
   "execution_count": 25,
   "metadata": {},
   "outputs": [],
   "source": [
    "while(True):\n",
    "    a_input = input(\"Please enter a coefficient of the equation: \")\n",
    "    b_input = input(\"Please enter b coefficient of the equation: \")\n",
    "    c_input = input(\"Please enter c coefficient of the equation: \")\n",
    "    d_input = input(\"Please enter d coefficient of the equation: \")\n",
    "    coefficients = [a_input, b_input, c_input, d_input]\n",
    "    try:\n",
    "        float_coefficients = [float(x) for x in coefficients]\n",
    "        break\n",
    "    except ValueError:\n",
    "        print(\"All inputs are not floats ! Please type again.\")\n",
    "        continue"
   ]
  },
  {
   "cell_type": "markdown",
   "metadata": {},
   "source": [
    "##### Equation."
   ]
  },
  {
   "cell_type": "code",
   "execution_count": 26,
   "metadata": {},
   "outputs": [],
   "source": [
    "def y_func(x):\n",
    "    return float_coefficients[0] * (x**3) + float_coefficients[1] * (x**2) + float_coefficients[2] * x + float_coefficients[3]"
   ]
  },
  {
   "cell_type": "markdown",
   "metadata": {},
   "source": [
    "##### First derivative of the equation."
   ]
  },
  {
   "cell_type": "code",
   "execution_count": 27,
   "metadata": {},
   "outputs": [],
   "source": [
    "def y_derivative(x):\n",
    "    return 3 *float_coefficients[0] * x**2 + 2 * float_coefficients[1] * x + float_coefficients[2]"
   ]
  },
  {
   "cell_type": "markdown",
   "metadata": {},
   "source": [
    "##### Plot equation and its first derivative. Set y min and y max values and finally show the graph."
   ]
  },
  {
   "cell_type": "code",
   "execution_count": 28,
   "metadata": {},
   "outputs": [
    {
     "data": {
      "image/png": "[encoded data removed]",
      "text/plain": [
       "<Figure size 432x288 with 1 Axes>"
      ]
     },
     "metadata": {},
     "output_type": "display_data"
    }
   ],
   "source": [
    "plt.plot(X_INTERVAL, y_func(X_INTERVAL), 'r--', X_INTERVAL, y_derivative(X_INTERVAL), 'b--')\n",
    "axes = plt.gca()\n",
    "axes.set_ylim(Y_MIN, Y_MAX)\n",
    "plt.xlabel('X axis')\n",
    "plt.ylabel('Y axis')\n",
    "plt.grid()\n",
    "plt.show()"
   ]
  }
 ],
 "metadata": {
  "kernelspec": {
   "display_name": "Python 3",
   "language": "python",
   "name": "python3"
  },
  "language_info": {
   "codemirror_mode": {
    "name": "ipython",
    "version": 3
   },
   "file_extension": ".py",
   "mimetype": "text/x-python",
   "name": "python",
   "nbconvert_exporter": "python",
   "pygments_lexer": "ipython3",
   "version": "3.6.5"
  }
 },
 "nbformat": 4,
 "nbformat_minor": 2
}
